{
 "cells": [
  {
   "cell_type": "code",
   "execution_count": 1,
   "metadata": {},
   "outputs": [],
   "source": [
    "import matplotlib.pyplot as plt\n",
    "import numpy as np\n",
    "import seaborn as sns\n",
    "import pandas as pd"
   ]
  },
  {
   "cell_type": "code",
   "execution_count": 12,
   "metadata": {},
   "outputs": [],
   "source": [
    "def get_data():\n",
    "    # read csv and return it\n",
    "    data = pd.read_csv(\"~/catkin_ws/src/Turtlebot3_Pheromone/src/log/csv/reward_20210405-170520_2_PER.csv\")\n",
    "    return data\n",
    "\n",
    "def average_data(data, n):\n",
    "    # Average n data for smooth plotting\n",
    "    data_copy = data.copy()\n",
    "    avg_data = data.copy()\n",
    "    #print(avg_data[\"Average Reward\"][1])\n",
    "    #print(data[\"Average Reward\"][1:5])\n",
    "    for i in range(data.shape[0]):\n",
    "        if i >= n:\n",
    "            avg_data[\"Average Reward\"][i] = data_copy[\"Average Reward\"][i-n+1:i+1].to_numpy().mean()\n",
    "            \n",
    "    return avg_data\n",
    "\n",
    "def mean_std(*data):\n",
    "    # 1. Calculate the minimum length of dataframes\n",
    "    min_len = 1000000\n",
    "    for d in data:\n",
    "        min_len = min(min_len, len(d.index))\n",
    "    \n",
    "    min_len = 143\n",
    "    # 2. Calculate mean and standard deviation of reward values for each episode.\n",
    "    mean = []\n",
    "    std  = []\n",
    "    for i in range(min_len):\n",
    "        mean.append(np.mean([d[\"Average Reward\"][i] for d in data]))\n",
    "        std.append(np.std([d[\"Average Reward\"][i] for d in data]))\n",
    "        \n",
    "    return np.array(mean), np.array(std), min_len"
   ]
  },
  {
   "cell_type": "code",
   "execution_count": 13,
   "metadata": {},
   "outputs": [
    {
     "name": "stdout",
     "output_type": "stream",
     "text": [
      "~/catkin_ws/src/frl_swarm/src/log/reward_20210515-131734_6_HER.csv\n",
      "~/catkin_ws/src/frl_swarm/src/log/\n",
      "FLDDPG data loading started\n"
     ]
    },
    {
     "name": "stderr",
     "output_type": "stream",
     "text": [
      "b'Skipping line 336: expected 2 fields, saw 6\\n'\n",
      "b'Skipping line 336: expected 2 fields, saw 6\\n'\n",
      "b'Skipping line 336: expected 2 fields, saw 6\\n'\n",
      "/home/sub/mpe_env/lib/python3.6/site-packages/ipykernel_launcher.py:14: SettingWithCopyWarning: \n",
      "A value is trying to be set on a copy of a slice from a DataFrame\n",
      "\n",
      "See the caveats in the documentation: http://pandas.pydata.org/pandas-docs/stable/indexing.html#indexing-view-versus-copy\n",
      "  \n"
     ]
    },
    {
     "name": "stdout",
     "output_type": "stream",
     "text": [
      "FLDDPG data has been successfully processed\n",
      "min_len: 143\n",
      "FLDDPG_soft data loading started\n"
     ]
    },
    {
     "name": "stderr",
     "output_type": "stream",
     "text": [
      "b'Skipping line 336: expected 2 fields, saw 6\\n'\n",
      "b'Skipping line 336: expected 2 fields, saw 6\\n'\n",
      "b'Skipping line 336: expected 2 fields, saw 6\\n'\n"
     ]
    },
    {
     "name": "stdout",
     "output_type": "stream",
     "text": [
      "FLDDPG_soft data has been successfully processed\n",
      "min_len: 143\n",
      "Done\n"
     ]
    }
   ],
   "source": [
    "num_seed = 3\n",
    "num_exp = 2\n",
    "algo_name = \"FLDDPG\"\n",
    "log_path = \"~/catkin_ws/src/frl_swarm/src/log/\" \n",
    "print(log_path + \"reward_20210515-131734_6_HER.csv\")\n",
    "\n",
    "\n",
    "print(log_path)\n",
    "data_mean = [[] for i in range(num_exp)]\n",
    "data_std = [[] for i in range(num_exp)]\n",
    "upper_data = [[] for i in range(num_exp)]\n",
    "lower_data = [[] for i in range(num_exp)]\n",
    "\n",
    "# FLDDPG\n",
    "FLDDPG = [[] for i in range(num_seed)]\n",
    "print(\"FLDDPG data loading started\")\n",
    "FLDDPG[0] = pd.read_csv(log_path + \"FLDDPG/csv/\" + \"reward_20210517-103737_6_HER.csv\",error_bad_lines=False)\n",
    "FLDDPG[1] = pd.read_csv(log_path + \"FLDDPG/csv/\" + \"reward_20210519-200318_6_HER.csv\",error_bad_lines=False)\n",
    "FLDDPG[2] = pd.read_csv(log_path + \"FLDDPG/csv/\" + \"reward_20210522-065059_6_HER.csv\",error_bad_lines=False)\n",
    "\n",
    "FLDDPG[0] = average_data(FLDDPG[0], 5)\n",
    "FLDDPG[1] = average_data(FLDDPG[1], 5)\n",
    "FLDDPG[2] = average_data(FLDDPG[2], 5)\n",
    "print(\"FLDDPG data has been successfully processed\")\n",
    "\n",
    "data_mean[0], data_std[0], min_len = mean_std(FLDDPG[0], FLDDPG[1], FLDDPG[2])\n",
    "print(\"min_len: {}\".format(min_len))\n",
    "upper_data[0] = data_mean[0] + data_std[0]\n",
    "lower_data[0] = data_mean[0] - data_std[0]\n",
    "\n",
    "# FLDDPG\n",
    "FLDDPG_soft = [[] for i in range(num_seed)]\n",
    "print(\"FLDDPG_soft data loading started\")\n",
    "FLDDPG_soft[0] = pd.read_csv(log_path + \"FLDDPG/csv/\" + \"reward_20210524-173426_6_HER.csv\",error_bad_lines=False)\n",
    "FLDDPG_soft[1] = pd.read_csv(log_path + \"FLDDPG/csv/\" + \"reward_20210525-044443_6_HER.csv\",error_bad_lines=False)\n",
    "FLDDPG_soft[2] = pd.read_csv(log_path + \"FLDDPG/csv/\" + \"reward_20210525-155924_6_HER.csv\",error_bad_lines=False)\n",
    "\n",
    "FLDDPG_soft[0] = average_data(FLDDPG_soft[0], 5)\n",
    "FLDDPG_soft[1] = average_data(FLDDPG_soft[1], 5)\n",
    "FLDDPG_soft[2] = average_data(FLDDPG_soft[2], 5)\n",
    "print(\"FLDDPG_soft data has been successfully processed\")\n",
    "\n",
    "data_mean[1], data_std[1], min_len = mean_std(FLDDPG_soft[0], FLDDPG_soft[1], FLDDPG_soft[2])\n",
    "print(\"min_len: {}\".format(min_len))\n",
    "upper_data[1] = data_mean[1] + data_std[1]\n",
    "lower_data[1] = data_mean[1] - data_std[1]\n",
    "\n",
    "\n",
    "# Episode length calculation\n",
    "eps = []\n",
    "for i in range(min_len):\n",
    "    eps.append(FLDDPG[0][\"Episode\"][i])\n",
    "    \n",
    "print(\"Done\")\n"
   ]
  },
  {
   "cell_type": "code",
   "execution_count": 15,
   "metadata": {},
   "outputs": [
    {
     "data": {
      "text/plain": [
       "<matplotlib.legend.Legend at 0x7f6fa5be0a20>"
      ]
     },
     "execution_count": 15,
     "metadata": {},
     "output_type": "execute_result"
    },
    {
     "name": "stderr",
     "output_type": "stream",
     "text": [
      "/home/sub/mpe_env/lib/python3.6/site-packages/matplotlib/font_manager.py:1333: UserWarning: findfont: Font family ['serif'] not found. Falling back to DejaVu Sans\n",
      "  (prop.get_family(), self.defaultFamily[fontext]))\n"
     ]
    },
    {
     "data": {
      "image/png": "[encoded data removed]",
      "text/plain": [
       "<Figure size 432x288 with 1 Axes>"
      ]
     },
     "metadata": {},
     "output_type": "display_data"
    }
   ],
   "source": [
    "#avg_data = average_data(avg_data, 5)\n",
    "#print(data)\n",
    "#print(avg_data)\n",
    "#waf_list=[1, 2, 3, 5, 10, 20, 30]\n",
    "#color_list = [\"teal\", \"orangered\", \"green\", \"darkorange\", \"purple\"]\n",
    "#fbtw_list = [\"powderblue\", \"coral\", \"lightgreen\", \"darkgoldenrod\", \"plum\"]\n",
    "algo_list=[\"Hard Update\", \"Soft Update\"]\n",
    "color_list=[\"red\", \"blue\"]\n",
    "fbtw_list=[\"red\", \"blue\"]\n",
    "\n",
    "sns.set(style=\"darkgrid\")\n",
    "plt.rcParams['font.family'] = 'cursive'\n",
    "plt.rc('font',**{'family':'serif','serif':['Times']})\n",
    "for i in range(len(algo_list)):\n",
    "    plt.plot(eps, data_mean[i], color=color_list[i], label=\"{}\".format(algo_list[i]))\n",
    "    plt.fill_between(eps, upper_data[i], lower_data[i], color=fbtw_list[i], alpha=0.15)\n",
    "    \n",
    "#plt.plot(eps, data_mean_per, color=\"teal\", label=\"DDPG+PER\")\n",
    "#plt.fill_between(eps, upper_data_per, lower_data_per, color=\"powderblue\", alpha=0.5)\n",
    "#plt.plot(eps, data_mean_her, color=\"orangered\", label=\"DDPG+HLER\")\n",
    "#plt.fill_between(eps, upper_data_her, lower_data_her, color=\"coral\", alpha=0.5)\n",
    "#plt.plot(eps, data_mean_her_noisy, color=\"green\", label=\"DDPG+HLER+noisy\")\n",
    "#plt.fill_between(eps, upper_data_her_noisy, lower_data_her_noisy, color=\"lightgreen\", alpha=0.4)\n",
    "plt.xlabel(\"Episodes\", fontsize=15)\n",
    "plt.ylabel(\"Average Reward\", fontsize=15)\n",
    "plt.legend()\n",
    "#plt.legend(loc='upper center',bbox_to_anchor=(1.2, 0.800), fontsize=12)\n",
    "#reward_plot = sns.lineplot(data=avg_data, x=\"Episode\", y=\"Average Reward\")"
   ]
  },
  {
   "cell_type": "code",
   "execution_count": 9,
   "metadata": {
    "scrolled": true
   },
   "outputs": [
    {
     "data": {
      "text/plain": [
       "<Figure size 432x288 with 0 Axes>"
      ]
     },
     "metadata": {},
     "output_type": "display_data"
    }
   ],
   "source": [
    "plt.savefig('/home/sub/catkin_ws/src/Turtlebot3_Pheromone/src/log/figures/reward_exp3.png', dpi=300)"
   ]
  },
  {
   "cell_type": "code",
   "execution_count": null,
   "metadata": {},
   "outputs": [],
   "source": []
  }
 ],
 "metadata": {
  "kernelspec": {
   "display_name": "Python 3",
   "language": "python",
   "name": "python3"
  },
  "language_info": {
   "codemirror_mode": {
    "name": "ipython",
    "version": 3
   },
   "file_extension": ".py",
   "mimetype": "text/x-python",
   "name": "python",
   "nbconvert_exporter": "python",
   "pygments_lexer": "ipython3",
   "version": "3.6.9"
  }
 },
 "nbformat": 4,
 "nbformat_minor": 2
}
