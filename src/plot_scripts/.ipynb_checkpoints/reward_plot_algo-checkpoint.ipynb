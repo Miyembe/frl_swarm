{
 "cells": [
  {
   "cell_type": "code",
   "execution_count": 1,
   "metadata": {},
   "outputs": [],
   "source": [
    "import matplotlib.pyplot as plt\n",
    "import numpy as np\n",
    "import seaborn as sns\n",
    "import pandas as pd"
   ]
  },
  {
   "cell_type": "code",
   "execution_count": 2,
   "metadata": {},
   "outputs": [],
   "source": [
    "def get_data():\n",
    "    # read csv and return it\n",
    "    data = pd.read_csv(\"~/catkin_ws/src/Turtlebot3_Pheromone/src/log/csv/reward_20210405-170520_2_PER.csv\")\n",
    "    return data\n",
    "\n",
    "def average_data(data, n):\n",
    "    # Average n data for smooth plotting\n",
    "    data_copy = data.copy()\n",
    "    avg_data = data.copy()\n",
    "    #print(avg_data[\"Average Reward\"][1])\n",
    "    #print(data[\"Average Reward\"][1:5])\n",
    "    for i in range(data.shape[0]):\n",
    "        if i >= n:\n",
    "            avg_data[\"Average Reward\"][i] = data_copy[\"Average Reward\"][i-n+1:i+1].to_numpy().mean()\n",
    "            \n",
    "    return avg_data\n",
    "\n",
    "def mean_std(*data):\n",
    "    # 1. Calculate the minimum length of dataframes\n",
    "    min_len = 1000000\n",
    "    for d in data:\n",
    "        min_len = min(min_len, len(d.index))\n",
    "    \n",
    "    #min_len = 334\n",
    "    # 2. Calculate mean and standard deviation of reward values for each episode.\n",
    "    mean = []\n",
    "    std  = []\n",
    "    for i in range(min_len):\n",
    "        mean.append(np.mean([d[\"Average Reward\"][i] for d in data]))\n",
    "        std.append(np.std([d[\"Average Reward\"][i] for d in data]))\n",
    "        \n",
    "    return np.array(mean), np.array(std), min_len"
   ]
  },
  {
   "cell_type": "code",
   "execution_count": 3,
   "metadata": {},
   "outputs": [
    {
     "name": "stdout",
     "output_type": "stream",
     "text": [
      "~/catkin_ws/src/frl_swarm/src/log/reward_20210515-131734_6_HER.csv\n",
      "~/catkin_ws/src/frl_swarm/src/log/\n",
      "IDDPG data loading started\n"
     ]
    },
    {
     "name": "stderr",
     "output_type": "stream",
     "text": [
      "b'Skipping line 336: expected 2 fields, saw 6\\n'\n",
      "b'Skipping line 336: expected 2 fields, saw 6\\n'\n",
      "/home/sub/mpe_env/lib/python3.6/site-packages/ipykernel_launcher.py:14: SettingWithCopyWarning: \n",
      "A value is trying to be set on a copy of a slice from a DataFrame\n",
      "\n",
      "See the caveats in the documentation: http://pandas.pydata.org/pandas-docs/stable/indexing.html#indexing-view-versus-copy\n",
      "  \n"
     ]
    },
    {
     "name": "stdout",
     "output_type": "stream",
     "text": [
      "IDDPG data has been successfully processed\n",
      "min_len: 334\n",
      "SNDDPG data loading started\n"
     ]
    },
    {
     "name": "stderr",
     "output_type": "stream",
     "text": [
      "b'Skipping line 336: expected 2 fields, saw 6\\n'\n",
      "b'Skipping line 336: expected 2 fields, saw 6\\n'\n"
     ]
    },
    {
     "name": "stdout",
     "output_type": "stream",
     "text": [
      "SNDDPG data has been successfully processed\n",
      "min_len: 334\n",
      "SEDDPG data loading started\n"
     ]
    },
    {
     "name": "stderr",
     "output_type": "stream",
     "text": [
      "b'Skipping line 336: expected 2 fields, saw 6\\n'\n",
      "b'Skipping line 336: expected 2 fields, saw 6\\n'\n"
     ]
    },
    {
     "name": "stdout",
     "output_type": "stream",
     "text": [
      "SEDDPG data has been successfully processed\n",
      "min_len: 334\n",
      "FLDDPG data loading started\n"
     ]
    },
    {
     "name": "stderr",
     "output_type": "stream",
     "text": [
      "b'Skipping line 336: expected 2 fields, saw 6\\n'\n",
      "b'Skipping line 336: expected 2 fields, saw 6\\n'\n",
      "b'Skipping line 336: expected 2 fields, saw 6\\n'\n"
     ]
    },
    {
     "name": "stdout",
     "output_type": "stream",
     "text": [
      "FLDDPG data has been successfully processed\n",
      "min_len: 334\n",
      "SWARMDDPG data loading started\n"
     ]
    },
    {
     "ename": "FileNotFoundError",
     "evalue": "[Errno 2] File b'/home/sub/catkin_ws/src/frl_swarm/src/log/FLDDPG/csv/reward_20210820-223504_6_HER.csv' does not exist: b'/home/sub/catkin_ws/src/frl_swarm/src/log/FLDDPG/csv/reward_20210820-223504_6_HER.csv'",
     "output_type": "error",
     "traceback": [
      "\u001b[0;31m---------------------------------------\u001b[0m",
      "\u001b[0;31mFileNotFoundError\u001b[0mTraceback (most recent call last)",
      "\u001b[0;32m<ipython-input-3-f0c68e4b48b1>\u001b[0m in \u001b[0;36m<module>\u001b[0;34m()\u001b[0m\n\u001b[1;32m     86\u001b[0m \u001b[0mSWARMDDPG\u001b[0m \u001b[0;34m=\u001b[0m \u001b[0;34m[\u001b[0m\u001b[0;34m[\u001b[0m\u001b[0;34m]\u001b[0m \u001b[0;32mfor\u001b[0m \u001b[0mi\u001b[0m \u001b[0;32min\u001b[0m \u001b[0mrange\u001b[0m\u001b[0;34m(\u001b[0m\u001b[0mnum_seed\u001b[0m\u001b[0;34m)\u001b[0m\u001b[0;34m]\u001b[0m\u001b[0;34m\u001b[0m\u001b[0;34m\u001b[0m\u001b[0m\n\u001b[1;32m     87\u001b[0m \u001b[0mprint\u001b[0m\u001b[0;34m(\u001b[0m\u001b[0;34m\"SWARMDDPG data loading started\"\u001b[0m\u001b[0;34m)\u001b[0m\u001b[0;34m\u001b[0m\u001b[0;34m\u001b[0m\u001b[0m\n\u001b[0;32m---> 88\u001b[0;31m \u001b[0mSWARMDDPG\u001b[0m\u001b[0;34m[\u001b[0m\u001b[0;36m0\u001b[0m\u001b[0;34m]\u001b[0m \u001b[0;34m=\u001b[0m \u001b[0mpd\u001b[0m\u001b[0;34m.\u001b[0m\u001b[0mread_csv\u001b[0m\u001b[0;34m(\u001b[0m\u001b[0mlog_path\u001b[0m \u001b[0;34m+\u001b[0m \u001b[0;34m\"FLDDPG/csv/\"\u001b[0m \u001b[0;34m+\u001b[0m \u001b[0;34m\"reward_20210820-223504_6_HER.csv\"\u001b[0m\u001b[0;34m,\u001b[0m\u001b[0merror_bad_lines\u001b[0m\u001b[0;34m=\u001b[0m\u001b[0;32mFalse\u001b[0m\u001b[0;34m)\u001b[0m\u001b[0;34m\u001b[0m\u001b[0;34m\u001b[0m\u001b[0m\n\u001b[0m\u001b[1;32m     89\u001b[0m \u001b[0mSWARMDDPG\u001b[0m\u001b[0;34m[\u001b[0m\u001b[0;36m1\u001b[0m\u001b[0;34m]\u001b[0m \u001b[0;34m=\u001b[0m \u001b[0mpd\u001b[0m\u001b[0;34m.\u001b[0m\u001b[0mread_csv\u001b[0m\u001b[0;34m(\u001b[0m\u001b[0mlog_path\u001b[0m \u001b[0;34m+\u001b[0m \u001b[0;34m\"FLDDPG/csv/\"\u001b[0m \u001b[0;34m+\u001b[0m \u001b[0;34m\"reward_20210820-223504_6_HER.csv\"\u001b[0m\u001b[0;34m,\u001b[0m\u001b[0merror_bad_lines\u001b[0m\u001b[0;34m=\u001b[0m\u001b[0;32mFalse\u001b[0m\u001b[0;34m)\u001b[0m\u001b[0;34m\u001b[0m\u001b[0;34m\u001b[0m\u001b[0m\n\u001b[1;32m     90\u001b[0m \u001b[0mSWARMDDPG\u001b[0m\u001b[0;34m[\u001b[0m\u001b[0;36m2\u001b[0m\u001b[0;34m]\u001b[0m \u001b[0;34m=\u001b[0m \u001b[0mpd\u001b[0m\u001b[0;34m.\u001b[0m\u001b[0mread_csv\u001b[0m\u001b[0;34m(\u001b[0m\u001b[0mlog_path\u001b[0m \u001b[0;34m+\u001b[0m \u001b[0;34m\"FLDDPG/csv/\"\u001b[0m \u001b[0;34m+\u001b[0m \u001b[0;34m\"reward_20210820-223504_6_HER.csv\"\u001b[0m\u001b[0;34m,\u001b[0m\u001b[0merror_bad_lines\u001b[0m\u001b[0;34m=\u001b[0m\u001b[0;32mFalse\u001b[0m\u001b[0;34m)\u001b[0m\u001b[0;34m\u001b[0m\u001b[0;34m\u001b[0m\u001b[0m\n",
      "\u001b[0;32m/home/sub/mpe_env/lib/python3.6/site-packages/pandas/io/parsers.py\u001b[0m in \u001b[0;36mparser_f\u001b[0;34m(filepath_or_buffer, sep, delimiter, header, names, index_col, usecols, squeeze, prefix, mangle_dupe_cols, dtype, engine, converters, true_values, false_values, skipinitialspace, skiprows, skipfooter, nrows, na_values, keep_default_na, na_filter, verbose, skip_blank_lines, parse_dates, infer_datetime_format, keep_date_col, date_parser, dayfirst, iterator, chunksize, compression, thousands, decimal, lineterminator, quotechar, quoting, doublequote, escapechar, comment, encoding, dialect, tupleize_cols, error_bad_lines, warn_bad_lines, delim_whitespace, low_memory, memory_map, float_precision)\u001b[0m\n\u001b[1;32m    700\u001b[0m                     skip_blank_lines=skip_blank_lines)\n\u001b[1;32m    701\u001b[0m \u001b[0;34m\u001b[0m\u001b[0m\n\u001b[0;32m--> 702\u001b[0;31m         \u001b[0;32mreturn\u001b[0m \u001b[0m_read\u001b[0m\u001b[0;34m(\u001b[0m\u001b[0mfilepath_or_buffer\u001b[0m\u001b[0;34m,\u001b[0m \u001b[0mkwds\u001b[0m\u001b[0;34m)\u001b[0m\u001b[0;34m\u001b[0m\u001b[0;34m\u001b[0m\u001b[0m\n\u001b[0m\u001b[1;32m    703\u001b[0m \u001b[0;34m\u001b[0m\u001b[0m\n\u001b[1;32m    704\u001b[0m     \u001b[0mparser_f\u001b[0m\u001b[0;34m.\u001b[0m\u001b[0m__name__\u001b[0m \u001b[0;34m=\u001b[0m \u001b[0mname\u001b[0m\u001b[0;34m\u001b[0m\u001b[0;34m\u001b[0m\u001b[0m\n",
      "\u001b[0;32m/home/sub/mpe_env/lib/python3.6/site-packages/pandas/io/parsers.py\u001b[0m in \u001b[0;36m_read\u001b[0;34m(filepath_or_buffer, kwds)\u001b[0m\n\u001b[1;32m    427\u001b[0m \u001b[0;34m\u001b[0m\u001b[0m\n\u001b[1;32m    428\u001b[0m     \u001b[0;31m# Create the parser.\u001b[0m\u001b[0;34m\u001b[0m\u001b[0;34m\u001b[0m\u001b[0;34m\u001b[0m\u001b[0m\n\u001b[0;32m--> 429\u001b[0;31m     \u001b[0mparser\u001b[0m \u001b[0;34m=\u001b[0m \u001b[0mTextFileReader\u001b[0m\u001b[0;34m(\u001b[0m\u001b[0mfilepath_or_buffer\u001b[0m\u001b[0;34m,\u001b[0m \u001b[0;34m**\u001b[0m\u001b[0mkwds\u001b[0m\u001b[0;34m)\u001b[0m\u001b[0;34m\u001b[0m\u001b[0;34m\u001b[0m\u001b[0m\n\u001b[0m\u001b[1;32m    430\u001b[0m \u001b[0;34m\u001b[0m\u001b[0m\n\u001b[1;32m    431\u001b[0m     \u001b[0;32mif\u001b[0m \u001b[0mchunksize\u001b[0m \u001b[0;32mor\u001b[0m \u001b[0miterator\u001b[0m\u001b[0;34m:\u001b[0m\u001b[0;34m\u001b[0m\u001b[0;34m\u001b[0m\u001b[0m\n",
      "\u001b[0;32m/home/sub/mpe_env/lib/python3.6/site-packages/pandas/io/parsers.py\u001b[0m in \u001b[0;36m__init__\u001b[0;34m(self, f, engine, **kwds)\u001b[0m\n\u001b[1;32m    893\u001b[0m             \u001b[0mself\u001b[0m\u001b[0;34m.\u001b[0m\u001b[0moptions\u001b[0m\u001b[0;34m[\u001b[0m\u001b[0;34m'has_index_names'\u001b[0m\u001b[0;34m]\u001b[0m \u001b[0;34m=\u001b[0m \u001b[0mkwds\u001b[0m\u001b[0;34m[\u001b[0m\u001b[0;34m'has_index_names'\u001b[0m\u001b[0;34m]\u001b[0m\u001b[0;34m\u001b[0m\u001b[0;34m\u001b[0m\u001b[0m\n\u001b[1;32m    894\u001b[0m \u001b[0;34m\u001b[0m\u001b[0m\n\u001b[0;32m--> 895\u001b[0;31m         \u001b[0mself\u001b[0m\u001b[0;34m.\u001b[0m\u001b[0m_make_engine\u001b[0m\u001b[0;34m(\u001b[0m\u001b[0mself\u001b[0m\u001b[0;34m.\u001b[0m\u001b[0mengine\u001b[0m\u001b[0;34m)\u001b[0m\u001b[0;34m\u001b[0m\u001b[0;34m\u001b[0m\u001b[0m\n\u001b[0m\u001b[1;32m    896\u001b[0m \u001b[0;34m\u001b[0m\u001b[0m\n\u001b[1;32m    897\u001b[0m     \u001b[0;32mdef\u001b[0m \u001b[0mclose\u001b[0m\u001b[0;34m(\u001b[0m\u001b[0mself\u001b[0m\u001b[0;34m)\u001b[0m\u001b[0;34m:\u001b[0m\u001b[0;34m\u001b[0m\u001b[0;34m\u001b[0m\u001b[0m\n",
      "\u001b[0;32m/home/sub/mpe_env/lib/python3.6/site-packages/pandas/io/parsers.py\u001b[0m in \u001b[0;36m_make_engine\u001b[0;34m(self, engine)\u001b[0m\n\u001b[1;32m   1120\u001b[0m     \u001b[0;32mdef\u001b[0m \u001b[0m_make_engine\u001b[0m\u001b[0;34m(\u001b[0m\u001b[0mself\u001b[0m\u001b[0;34m,\u001b[0m \u001b[0mengine\u001b[0m\u001b[0;34m=\u001b[0m\u001b[0;34m'c'\u001b[0m\u001b[0;34m)\u001b[0m\u001b[0;34m:\u001b[0m\u001b[0;34m\u001b[0m\u001b[0;34m\u001b[0m\u001b[0m\n\u001b[1;32m   1121\u001b[0m         \u001b[0;32mif\u001b[0m \u001b[0mengine\u001b[0m \u001b[0;34m==\u001b[0m \u001b[0;34m'c'\u001b[0m\u001b[0;34m:\u001b[0m\u001b[0;34m\u001b[0m\u001b[0;34m\u001b[0m\u001b[0m\n\u001b[0;32m-> 1122\u001b[0;31m             \u001b[0mself\u001b[0m\u001b[0;34m.\u001b[0m\u001b[0m_engine\u001b[0m \u001b[0;34m=\u001b[0m \u001b[0mCParserWrapper\u001b[0m\u001b[0;34m(\u001b[0m\u001b[0mself\u001b[0m\u001b[0;34m.\u001b[0m\u001b[0mf\u001b[0m\u001b[0;34m,\u001b[0m \u001b[0;34m**\u001b[0m\u001b[0mself\u001b[0m\u001b[0;34m.\u001b[0m\u001b[0moptions\u001b[0m\u001b[0;34m)\u001b[0m\u001b[0;34m\u001b[0m\u001b[0;34m\u001b[0m\u001b[0m\n\u001b[0m\u001b[1;32m   1123\u001b[0m         \u001b[0;32melse\u001b[0m\u001b[0;34m:\u001b[0m\u001b[0;34m\u001b[0m\u001b[0;34m\u001b[0m\u001b[0m\n\u001b[1;32m   1124\u001b[0m             \u001b[0;32mif\u001b[0m \u001b[0mengine\u001b[0m \u001b[0;34m==\u001b[0m \u001b[0;34m'python'\u001b[0m\u001b[0;34m:\u001b[0m\u001b[0;34m\u001b[0m\u001b[0;34m\u001b[0m\u001b[0m\n",
      "\u001b[0;32m/home/sub/mpe_env/lib/python3.6/site-packages/pandas/io/parsers.py\u001b[0m in \u001b[0;36m__init__\u001b[0;34m(self, src, **kwds)\u001b[0m\n\u001b[1;32m   1851\u001b[0m         \u001b[0mkwds\u001b[0m\u001b[0;34m[\u001b[0m\u001b[0;34m'usecols'\u001b[0m\u001b[0;34m]\u001b[0m \u001b[0;34m=\u001b[0m \u001b[0mself\u001b[0m\u001b[0;34m.\u001b[0m\u001b[0musecols\u001b[0m\u001b[0;34m\u001b[0m\u001b[0;34m\u001b[0m\u001b[0m\n\u001b[1;32m   1852\u001b[0m \u001b[0;34m\u001b[0m\u001b[0m\n\u001b[0;32m-> 1853\u001b[0;31m         \u001b[0mself\u001b[0m\u001b[0;34m.\u001b[0m\u001b[0m_reader\u001b[0m \u001b[0;34m=\u001b[0m \u001b[0mparsers\u001b[0m\u001b[0;34m.\u001b[0m\u001b[0mTextReader\u001b[0m\u001b[0;34m(\u001b[0m\u001b[0msrc\u001b[0m\u001b[0;34m,\u001b[0m \u001b[0;34m**\u001b[0m\u001b[0mkwds\u001b[0m\u001b[0;34m)\u001b[0m\u001b[0;34m\u001b[0m\u001b[0;34m\u001b[0m\u001b[0m\n\u001b[0m\u001b[1;32m   1854\u001b[0m         \u001b[0mself\u001b[0m\u001b[0;34m.\u001b[0m\u001b[0munnamed_cols\u001b[0m \u001b[0;34m=\u001b[0m \u001b[0mself\u001b[0m\u001b[0;34m.\u001b[0m\u001b[0m_reader\u001b[0m\u001b[0;34m.\u001b[0m\u001b[0munnamed_cols\u001b[0m\u001b[0;34m\u001b[0m\u001b[0;34m\u001b[0m\u001b[0m\n\u001b[1;32m   1855\u001b[0m \u001b[0;34m\u001b[0m\u001b[0m\n",
      "\u001b[0;32mpandas/_libs/parsers.pyx\u001b[0m in \u001b[0;36mpandas._libs.parsers.TextReader.__cinit__\u001b[0;34m()\u001b[0m\n",
      "\u001b[0;32mpandas/_libs/parsers.pyx\u001b[0m in \u001b[0;36mpandas._libs.parsers.TextReader._setup_parser_source\u001b[0;34m()\u001b[0m\n",
      "\u001b[0;31mFileNotFoundError\u001b[0m: [Errno 2] File b'/home/sub/catkin_ws/src/frl_swarm/src/log/FLDDPG/csv/reward_20210820-223504_6_HER.csv' does not exist: b'/home/sub/catkin_ws/src/frl_swarm/src/log/FLDDPG/csv/reward_20210820-223504_6_HER.csv'"
     ]
    }
   ],
   "source": [
    "num_seed = 3\n",
    "num_exp = 5\n",
    "algo_name = \"FLDDPG\"\n",
    "log_path = \"~/catkin_ws/src/frl_swarm/src/log/\" \n",
    "print(log_path + \"reward_20210515-131734_6_HER.csv\")\n",
    "\n",
    "\n",
    "print(log_path)\n",
    "data_mean = [[] for i in range(num_exp)]\n",
    "data_std = [[] for i in range(num_exp)]\n",
    "upper_data = [[] for i in range(num_exp)]\n",
    "lower_data = [[] for i in range(num_exp)]\n",
    "\n",
    "# Weight Averaging Frequency 1\n",
    "IDDPG = [[] for i in range(num_seed)]\n",
    "print(\"IDDPG data loading started\")\n",
    "#waf_1[0] = pd.read_csv(\"~/catkin_ws/src/frl_swarm/src/log/FLDDPG/csv/reward_20210515-131734_6_HER.csv\")\n",
    "IDDPG[0] = pd.read_csv(log_path + \"IACDDPG/csv/\" + \"reward_20210516-215158_6_HER.csv\",error_bad_lines=False)\n",
    "IDDPG[1] = pd.read_csv(log_path + \"IACDDPG/csv/\" + \"reward_20210528-130515_6_HER.csv\",error_bad_lines=False)\n",
    "IDDPG[2] = pd.read_csv(log_path + \"IACDDPG/csv/\" + \"reward_20210529-001913_6_HER.csv\",error_bad_lines=False)\n",
    "\n",
    "IDDPG[0] = average_data(IDDPG[0], 5)\n",
    "IDDPG[1] = average_data(IDDPG[1], 5)\n",
    "IDDPG[2] = average_data(IDDPG[2], 5)\n",
    "print(\"IDDPG data has been successfully processed\")\n",
    "\n",
    "data_mean[0], data_std[0], min_len = mean_std(IDDPG[0], IDDPG[1], IDDPG[2])\n",
    "print(\"min_len: {}\".format(min_len))\n",
    "\n",
    "upper_data[0] = data_mean[0] + data_std[0]\n",
    "lower_data[0] = data_mean[0] - data_std[0]\n",
    "\n",
    "# Weight Averaging Frequency 2\n",
    "SNDDPG = [[] for i in range(num_seed)]\n",
    "print(\"SNDDPG data loading started\")\n",
    "SNDDPG[0] = pd.read_csv(log_path + \"SNACDDPG/csv/\" + \"reward_20210528-234257_6_HER.csv\",error_bad_lines=False)\n",
    "SNDDPG[1] = pd.read_csv(log_path + \"SNACDDPG/csv/\" + \"reward_20210515-131900_6_HER.csv\",error_bad_lines=False)\n",
    "SNDDPG[2] = pd.read_csv(log_path + \"SNACDDPG/csv/\" + \"reward_20210515-030007_6_HER.csv\",error_bad_lines=False)\n",
    "\n",
    "SNDDPG[0] = average_data(SNDDPG[0], 5)\n",
    "SNDDPG[1] = average_data(SNDDPG[1], 5)\n",
    "SNDDPG[2] = average_data(SNDDPG[2], 5)\n",
    "print(\"SNDDPG data has been successfully processed\")\n",
    "\n",
    "data_mean[1], data_std[1], min_len = mean_std(SNDDPG[0], SNDDPG[1], SNDDPG[2])\n",
    "print(\"min_len: {}\".format(min_len))\n",
    "upper_data[1] = data_mean[1] + data_std[1]\n",
    "lower_data[1] = data_mean[1] - data_std[1]\n",
    "\n",
    "# SEDDPG\n",
    "SEDDPG = [[] for i in range(num_seed)]\n",
    "print(\"SEDDPG data loading started\")\n",
    "SEDDPG[0] = pd.read_csv(log_path + \"SEACDDPG/csv/\" + \"reward_20210514-093213_6_HER.csv\",error_bad_lines=False)\n",
    "SEDDPG[1] = pd.read_csv(log_path + \"SEACDDPG/csv/\" + \"reward_20210530-005137_6_HER.csv\",error_bad_lines=False)\n",
    "SEDDPG[2] = pd.read_csv(log_path + \"SEACDDPG/csv/\" + \"reward_20210529-145836_6_HER.csv\",error_bad_lines=False)\n",
    "\n",
    "SEDDPG[0] = average_data(SEDDPG[0], 5)\n",
    "SEDDPG[1] = average_data(SEDDPG[1], 5)\n",
    "SEDDPG[2] = average_data(SEDDPG[2], 5)\n",
    "print(\"SEDDPG data has been successfully processed\")\n",
    "\n",
    "data_mean[2], data_std[2], min_len = mean_std(SEDDPG[0], SEDDPG[1], SEDDPG[2])\n",
    "print(\"min_len: {}\".format(min_len))\n",
    "upper_data[2] = data_mean[2] + data_std[2]\n",
    "lower_data[2] = data_mean[2] - data_std[2]\n",
    "\n",
    "# FLDDPG\n",
    "FLDDPG = [[] for i in range(num_seed)]\n",
    "print(\"FLDDPG data loading started\")\n",
    "FLDDPG[0] = pd.read_csv(log_path + \"FLDDPG/csv/\" + \"reward_20210524-173426_6_HER.csv\",error_bad_lines=False)\n",
    "FLDDPG[1] = pd.read_csv(log_path + \"FLDDPG/csv/\" + \"reward_20210525-044443_6_HER.csv\",error_bad_lines=False)\n",
    "FLDDPG[2] = pd.read_csv(log_path + \"FLDDPG/csv/\" + \"reward_20210525-155924_6_HER.csv\",error_bad_lines=False)\n",
    "\n",
    "FLDDPG[0] = average_data(FLDDPG[0], 5)\n",
    "FLDDPG[1] = average_data(FLDDPG[1], 5)\n",
    "FLDDPG[2] = average_data(FLDDPG[2], 5)\n",
    "print(\"FLDDPG data has been successfully processed\")\n",
    "\n",
    "data_mean[3], data_std[3], min_len = mean_std(FLDDPG[0], FLDDPG[1], FLDDPG[2])\n",
    "print(\"min_len: {}\".format(min_len))\n",
    "upper_data[3] = data_mean[3] + data_std[3]\n",
    "lower_data[3] = data_mean[3] - data_std[3]\n",
    "\n",
    "\n",
    "# SWARMDDPG\n",
    "SWARMDDPG = [[] for i in range(num_seed)]\n",
    "print(\"SWARMDDPG data loading started\")\n",
    "SWARMDDPG[0] = pd.read_csv(log_path + \"FLDDPG/csv/\" + \"reward_20210820-223502_6_HER.csv\",error_bad_lines=False)\n",
    "SWARMDDPG[1] = pd.read_csv(log_path + \"FLDDPG/csv/\" + \"reward_20210820-223502_6_HER.csv\",error_bad_lines=False)\n",
    "SWARMDDPG[2] = pd.read_csv(log_path + \"FLDDPG/csv/\" + \"reward_20210820-223502_6_HER.csv\",error_bad_lines=False)\n",
    "\n",
    "SWARMDDPG[0] = average_data(SWARMDDPG[0], 5)\n",
    "SWARMDDPG[1] = average_data(SWARMDDPG[1], 5)\n",
    "SWARMDDPG[2] = average_data(SWARMDDPG[2], 5)\n",
    "print(\"SWARMDDPG data has been successfully processed\")\n",
    "\n",
    "data_mean[4], data_std[4], min_len = mean_std(SWARMDDPG[0], SWARMDDPG[1], SWARMDDPG[2])\n",
    "print(\"min_len: {}\".format(min_len))\n",
    "upper_data[4] = data_mean[4] + data_std[4]\n",
    "lower_data[4] = data_mean[4] - data_std[4]\n",
    "\n",
    "\n",
    "# Episode length calculation\n",
    "eps = []\n",
    "for i in range(min_len):\n",
    "    eps.append(FLDDPG[0][\"Episode\"][i])\n",
    "    \n",
    "print(\"Done\")\n"
   ]
  },
  {
   "cell_type": "code",
   "execution_count": null,
   "metadata": {},
   "outputs": [],
   "source": [
    "#avg_data = average_data(avg_data, 5)\n",
    "#print(data)\n",
    "#print(avg_data)\n",
    "#waf_list=[1, 2, 3, 5, 10, 20, 30]\n",
    "#color_list = [\"teal\", \"orangered\", \"green\", \"darkorange\", \"purple\"]\n",
    "#fbtw_list = [\"powderblue\", \"coral\", \"lightgreen\", \"darkgoldenrod\", \"plum\"]\n",
    "algo_list=[\"IDDPG\", \"SNDDPG\", \"SEDDPG\", \"FLDDPG\", \"SWARMDDPG\"]\n",
    "color_list=[\"red\", \"peru\", \"blue\", \"green\", \"black\"]\n",
    "fbtw_list=[\"red\", \"peru\", \"blue\", \"green\", \"black\"]\n",
    "\n",
    "sns.set(style=\"darkgrid\")\n",
    "plt.rcParams['font.family'] = 'cursive'\n",
    "plt.rc('font',**{'family':'serif','serif':['Times']})\n",
    "for i in range(len(algo_list)):\n",
    "    plt.plot(eps, data_mean[i], color=color_list[i], label=\"{}\".format(algo_list[i]))\n",
    "    plt.fill_between(eps, upper_data[i], lower_data[i], color=fbtw_list[i], alpha=0.10)\n",
    "    \n",
    "#plt.plot(eps, data_mean_per, color=\"teal\", label=\"DDPG+PER\")\n",
    "#plt.fill_between(eps, upper_data_per, lower_data_per, color=\"powderblue\", alpha=0.5)\n",
    "#plt.plot(eps, data_mean_her, color=\"orangered\", label=\"DDPG+HLER\")\n",
    "#plt.fill_between(eps, upper_data_her, lower_data_her, color=\"coral\", alpha=0.5)\n",
    "#plt.plot(eps, data_mean_her_noisy, color=\"green\", label=\"DDPG+HLER+noisy\")\n",
    "#plt.fill_between(eps, upper_data_her_noisy, lower_data_her_noisy, color=\"lightgreen\", alpha=0.4)\n",
    "plt.xlabel(\"Episodes\", fontsize=15)\n",
    "plt.ylabel(\"Average Reward\", fontsize=15)\n",
    "plt.legend()\n",
    "#plt.legend(loc='upper center',bbox_to_anchor=(1.2, 0.800), fontsize=12)\n",
    "#reward_plot = sns.lineplot(data=avg_data, x=\"Episode\", y=\"Average Reward\")"
   ]
  },
  {
   "cell_type": "code",
   "execution_count": 9,
   "metadata": {
    "scrolled": true
   },
   "outputs": [
    {
     "data": {
      "text/plain": [
       "<Figure size 432x288 with 0 Axes>"
      ]
     },
     "metadata": {},
     "output_type": "display_data"
    }
   ],
   "source": [
    "plt.savefig('/home/sub/catkin_ws/src/Turtlebot3_Pheromone/src/log/figures/reward_exp3.png', dpi=300)"
   ]
  },
  {
   "cell_type": "code",
   "execution_count": null,
   "metadata": {},
   "outputs": [],
   "source": []
  }
 ],
 "metadata": {
  "kernelspec": {
   "display_name": "Python 3",
   "language": "python",
   "name": "python3"
  },
  "language_info": {
   "codemirror_mode": {
    "name": "ipython",
    "version": 3
   },
   "file_extension": ".py",
   "mimetype": "text/x-python",
   "name": "python",
   "nbconvert_exporter": "python",
   "pygments_lexer": "ipython3",
   "version": "3.6.9"
  }
 },
 "nbformat": 4,
 "nbformat_minor": 2
}
